{
  "nbformat": 4,
  "nbformat_minor": 0,
  "metadata": {
    "colab": {
      "name": "datetime.ipynb",
      "provenance": []
    },
    "kernelspec": {
      "name": "python3",
      "display_name": "Python 3"
    },
    "language_info": {
      "name": "python"
    }
  },
  "cells": [
    {
      "cell_type": "code",
      "metadata": {
        "id": "aXKX3GtL-0BZ"
      },
      "source": [
        "input = [\"68954\", \"70107\", \"38783\", \"29785\", \"62727\"]"
      ],
      "execution_count": 3,
      "outputs": []
    },
    {
      "cell_type": "code",
      "metadata": {
        "id": "Dqs4xRxu-3k-"
      },
      "source": [
        "crns = {\"58056\" : ['302 Transportation Building', '09:00AM - 10:50AM', 'M'],\n",
        "        \"70107\" : ['112 Gregory Hall', '12:00PM - 12:50PM', 'MW'],\n",
        "        \"38783\" : ['8 ACES Lib, Info & Alum Ctr', '02:00PM - 03:20PM', 'TR'],\n",
        "        \"29825\" : ['122 Bevier Hall', '10:00AM - 11:20AM', 'MW'],\n",
        "        \"29785\" : ['4029 Campus Instructional Facility', '10:00AM - 10:50AM', 'MWF'],\n",
        "        \"68954\" : ['149 National Soybean Res Ctr', '09:00AM - 09:50AM', 'M'],\n",
        "        \"62727\" : ['325 David Kinley Hall', '01:00PM - 02:50PM', 'MWF']\n",
        "}"
      ],
      "execution_count": 4,
      "outputs": []
    },
    {
      "cell_type": "code",
      "metadata": {
        "colab": {
          "base_uri": "https://localhost:8080/"
        },
        "id": "oA-2j-OM--1i",
        "outputId": "41be827b-69e0-4d42-ca0a-851b260af980"
      },
      "source": [
        "days = {\"M\" : [], \"T\" : [], \"W\": [], \"R\": [], \"F\" : []}\n",
        "for item in input:\n",
        "    if(len(crns[item][2]) > 1):\n",
        "      for letter in crns[item][2]:\n",
        "        #M\n",
        "        temp = []\n",
        "        temp.append(crns[item][1])\n",
        "        temp.append(crns[item][0])\n",
        "        days[letter].append(temp)\n",
        "    else:\n",
        "        temp = []\n",
        "        temp.append(crns[item][1])\n",
        "        temp.append(crns[item][0])\n",
        "        days[crns[item][2]].append(temp)\n",
        "\n",
        "days"
      ],
      "execution_count": 5,
      "outputs": [
        {
          "output_type": "execute_result",
          "data": {
            "text/plain": [
              "{'F': [['10:00AM - 10:50AM', '4029 Campus Instructional Facility'],\n",
              "  ['01:00PM - 02:50PM', '325 David Kinley Hall']],\n",
              " 'M': [['09:00AM - 09:50AM', '149 National Soybean Res Ctr'],\n",
              "  ['12:00PM - 12:50PM', '112 Gregory Hall'],\n",
              "  ['10:00AM - 10:50AM', '4029 Campus Instructional Facility'],\n",
              "  ['01:00PM - 02:50PM', '325 David Kinley Hall']],\n",
              " 'R': [['02:00PM - 03:20PM', '8 ACES Lib, Info & Alum Ctr']],\n",
              " 'T': [['02:00PM - 03:20PM', '8 ACES Lib, Info & Alum Ctr']],\n",
              " 'W': [['12:00PM - 12:50PM', '112 Gregory Hall'],\n",
              "  ['10:00AM - 10:50AM', '4029 Campus Instructional Facility'],\n",
              "  ['01:00PM - 02:50PM', '325 David Kinley Hall']]}"
            ]
          },
          "metadata": {},
          "execution_count": 5
        }
      ]
    },
    {
      "cell_type": "code",
      "metadata": {
        "colab": {
          "base_uri": "https://localhost:8080/"
        },
        "id": "JiHZpjjb_Jl8",
        "outputId": "d0dd33f0-0516-4117-b279-aff6d1565beb"
      },
      "source": [
        "for key, val in days.items():\n",
        "  for item in val:\n",
        "    if \"PM\" in item[0]:\n",
        "      new_time = \"\"\n",
        "      if(int(item[0][:2]) < 12):\n",
        "        new_start_time = str(int(item[0][:2]) + 12)\n",
        "        new_end_time = str(int(item[0][10:12]) + 12)\n",
        "        print(new_start_time, new_end_time)\n",
        "        new_time = new_start_time + item[0][2:10] + new_end_time + item[0][12:]\n",
        "        item[0] = new_time\n",
        "\n",
        "for key, val in days.items():\n",
        "  val = sorted(val, key=lambda x: x[0])\n",
        "  print(key, val)\n"
      ],
      "execution_count": 6,
      "outputs": [
        {
          "output_type": "stream",
          "name": "stdout",
          "text": [
            "13 14\n",
            "14 15\n",
            "13 14\n",
            "14 15\n",
            "13 14\n",
            "M [['09:00AM - 09:50AM', '149 National Soybean Res Ctr'], ['10:00AM - 10:50AM', '4029 Campus Instructional Facility'], ['12:00PM - 12:50PM', '112 Gregory Hall'], ['13:00PM - 14:50PM', '325 David Kinley Hall']]\n",
            "T [['14:00PM - 15:20PM', '8 ACES Lib, Info & Alum Ctr']]\n",
            "W [['10:00AM - 10:50AM', '4029 Campus Instructional Facility'], ['12:00PM - 12:50PM', '112 Gregory Hall'], ['13:00PM - 14:50PM', '325 David Kinley Hall']]\n",
            "R [['14:00PM - 15:20PM', '8 ACES Lib, Info & Alum Ctr']]\n",
            "F [['10:00AM - 10:50AM', '4029 Campus Instructional Facility'], ['13:00PM - 14:50PM', '325 David Kinley Hall']]\n"
          ]
        }
      ]
    }
  ]
}