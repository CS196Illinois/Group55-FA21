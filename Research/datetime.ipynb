{
 "cells": [
  {
   "cell_type": "code",
   "execution_count": 1,
 "cells": [
  {
   "cell_type": "code",
   "execution_count": 1,
   "execution_count": 530,
   "metadata": {
    "id": "aXKX3GtL-0BZ"
   },
   "outputs": [],
   "source": [
    "input = [\"68954\", \"70107\", \"38783\", \"29785\", \"62727\"]"
   ]
  },
  {
   "cell_type": "code",
   "execution_count": 2,
   "metadata": {
    "id": "Dqs4xRxu-3k-"
   },
   "outputs": [],
   "source": [
    "crns = {\"58056\" : ['302 Transportation Building', '09:00AM - 10:50AM', 'M'],\n",
    "        \"70107\" : ['112 Gregory Hall', '12:00PM - 12:50PM', 'MW'],\n",
    "        \"38783\" : ['8 ACES Lib, Info & Alum Ctr', '02:00PM - 03:20PM', 'TR'],\n",
    "        \"29825\" : ['122 Bevier Hall', '10:00AM - 11:20AM', 'MW'],\n",
    "        \"29785\" : ['4029 Campus Instructional Facility', '10:00AM - 10:50AM', 'MWF'],\n",
    "        \"68954\" : ['149 National Soybean Res Ctr', '09:00AM - 09:50AM', 'M'],\n",
    "        \"62727\" : ['325 David Kinley Hall', '01:00PM - 02:50PM', 'MWF']\n",
    "}"
   ]
  },
  {
   "cell_type": "code",
   "execution_count": 3,
   "metadata": {
    "colab": {
     "base_uri": "https://localhost:8080/"
  "nbformat": 4,
  "nbformat_minor": 0,
  "metadata": {
    "colab": {
      "name": "datetime.ipynb",
      "provenance": [],
      "collapsed_sections": []
    },
    "kernelspec": {
      "name": "python3",
      "display_name": "Python 3"
    },
    "language_info": {
      "name": "python"
    }
  },
  "cells": [
    {
      "cell_type": "code",
      "metadata": {
        "id": "aXKX3GtL-0BZ"
      },
      "source": [
        "input = [\"68954\", \"70107\", \"38783\", \"29785\", \"62727\"]"
      ],
      "execution_count": 1,
      "outputs": []
    },
    {
      "cell_type": "code",
      "metadata": {
        "id": "Dqs4xRxu-3k-"
      },
      "source": [
        "crns = {\"58056\" : ['302 Transportation Building', '09:00AM - 10:50AM', 'M'],\n",
        "        \"70107\" : ['112 Gregory Hall', '12:00PM - 12:50PM', 'MW'],\n",
        "        \"38783\" : ['8 ACES Lib, Info & Alum Ctr', '02:00PM - 03:20PM', 'TR'],\n",
        "        \"29825\" : ['122 Bevier Hall', '10:00AM - 11:20AM', 'MW'],\n",
        "        \"29785\" : ['4029 Campus Instructional Facility', '10:00AM - 10:50AM', 'MWF'],\n",
        "        \"68954\" : ['149 National Soybean Res Ctr', '09:00AM - 09:50AM', 'M'],\n",
        "        \"62727\" : ['325 David Kinley Hall', '01:00PM - 02:50PM', 'MWF']\n",
        "}"
      ],
      "execution_count": 2,
      "outputs": []
    },
    "id": "oA-2j-OM--1i",
    "outputId": "41be827b-69e0-4d42-ca0a-851b260af980"
   },
   "outputs": [
    {
  },
  {
   "cell_type": "code",
   "execution_count": 2,
   "metadata": {
    "id": "Dqs4xRxu-3k-"
   },
   "outputs": [],
   "source": [
    "crns = {\"58056\" : ['302 Transportation Building', '09:00AM - 10:50AM', 'M'],\n",
    "        \"70107\" : ['112 Gregory Hall', '12:00PM - 12:50PM', 'MW'],\n",
    "        \"38783\" : ['8 ACES Lib, Info & Alum Ctr', '02:00PM - 03:20PM', 'TR'],\n",
    "        \"29825\" : ['122 Bevier Hall', '10:00AM - 11:20AM', 'MW'],\n",
    "        \"29785\" : ['4029 Campus Instructional Facility', '10:00AM - 10:50AM', 'MWF'],\n",
    "        \"68954\" : ['149 National Soybean Res Ctr', '09:00AM - 09:50AM', 'M'],\n",
    "        \"62727\" : ['325 David Kinley Hall', '01:00PM - 02:50PM', 'MWF']\n",
    "}"
   ]
  },
  {
   "cell_type": "code",
   "execution_count": 3,
   "metadata": {
    "colab": {
     "base_uri": "https://localhost:8080/"
    },
    "id": "oA-2j-OM--1i",
    "outputId": "99edbe96-3cf6-4190-fa28-7ccbb17b9775"
   },
   "outputs": [
    {
     "data": {
      "text/plain": [
       "{'M': [['09:00AM - 09:50AM', '149 National Soybean Res Ctr'],\n",
       "  ['12:00PM - 12:50PM', '112 Gregory Hall'],\n",
       "  ['10:00AM - 10:50AM', '4029 Campus Instructional Facility'],\n",
       "  ['01:00PM - 02:50PM', '325 David Kinley Hall']],\n",
       " 'T': [['02:00PM - 03:20PM', '8 ACES Lib, Info & Alum Ctr']],\n",
       " 'W': [['12:00PM - 12:50PM', '112 Gregory Hall'],\n",
       "  ['10:00AM - 10:50AM', '4029 Campus Instructional Facility'],\n",
       "  ['01:00PM - 02:50PM', '325 David Kinley Hall']],\n",
       " 'R': [['02:00PM - 03:20PM', '8 ACES Lib, Info & Alum Ctr']],\n",
       " 'F': [['10:00AM - 10:50AM', '4029 Campus Instructional Facility'],\n",
       "  ['01:00PM - 02:50PM', '325 David Kinley Hall']]}"
      "cell_type": "code",
      "metadata": {
        "colab": {
          "base_uri": "https://localhost:8080/"
        },
        "id": "oA-2j-OM--1i",
        "outputId": "99edbe96-3cf6-4190-fa28-7ccbb17b9775"
      },
      "source": [
        "days = {\"M\" : [], \"T\" : [], \"W\": [], \"R\": [], \"F\" : []}\n",
        "for item in input:\n",
        "    if(len(crns[item][2]) > 1):\n",
        "      for letter in crns[item][2]:\n",
        "        #M\n",
        "        temp = []\n",
        "        temp.append(crns[item][1])\n",
        "        temp.append(crns[item][0])\n",
        "        days[letter].append(temp)\n",
        "    else:\n",
        "        temp = []\n",
        "        temp.append(crns[item][1])\n",
        "        temp.append(crns[item][0])\n",
        "        days[crns[item][2]].append(temp)\n",
        "\n",
        "days"
      ],
      "execution_count": 3,
      "outputs": [
        {
          "output_type": "execute_result",
          "data": {
            "text/plain": [
              "{'F': [['10:00AM - 10:50AM', '4029 Campus Instructional Facility'],\n",
              "  ['01:00PM - 02:50PM', '325 David Kinley Hall']],\n",
              " 'M': [['09:00AM - 09:50AM', '149 National Soybean Res Ctr'],\n",
              "  ['12:00PM - 12:50PM', '112 Gregory Hall'],\n",
              "  ['10:00AM - 10:50AM', '4029 Campus Instructional Facility'],\n",
              "  ['01:00PM - 02:50PM', '325 David Kinley Hall']],\n",
              " 'R': [['02:00PM - 03:20PM', '8 ACES Lib, Info & Alum Ctr']],\n",
              " 'T': [['02:00PM - 03:20PM', '8 ACES Lib, Info & Alum Ctr']],\n",
              " 'W': [['12:00PM - 12:50PM', '112 Gregory Hall'],\n",
              "  ['10:00AM - 10:50AM', '4029 Campus Instructional Facility'],\n",
              "  ['01:00PM - 02:50PM', '325 David Kinley Hall']]}"
            ]
          },
          "metadata": {},
          "execution_count": 3
        }
      ]
     },
     "execution_count": 3,
      ]
     },
     "execution_count": 3,
     "execution_count": 532,
     "metadata": {},
     "output_type": "execute_result"
    }
   ],
   "source": [
    "days = {\"M\" : [], \"T\" : [], \"W\": [], \"R\": [], \"F\" : []}\n",
    "for item in input:\n",
    "    if(len(crns[item][2]) > 1):\n",
    "      for letter in crns[item][2]:\n",
    "        #M\n",
    "        #Storing time and location in a list 'temp' and appending it to dictionary 'days'\n",
    "        temp = []\n",
    "        temp.append(crns[item][1])\n",
    "        temp.append(crns[item][0])\n",
    "        days[letter].append(temp)\n",
    "    else:\n",
    "        temp = []\n",
    "        temp.append(crns[item][1])\n",
    "        temp.append(crns[item][0])\n",
    "        days[crns[item][2]].append(temp)\n",
    "\n",
    "days"
   ]
  },
  {
   "cell_type": "code",
   "execution_count": 533,
   "metadata": {
    "id": "_g9EafkY8Hhl"
   },
   "outputs": [],
   "source": [
    "\n",
    "def timeDiff(end_time,start_time):\n",
    "    timeDiff = end_time - start_time\n",
    "    return timeDiff\n"
   ]
  },
  {
   "cell_type": "code",
   "execution_count": 5,
   "metadata": {
    "colab": {
     "base_uri": "https://localhost:8080/"
    },
    "id": "JiHZpjjb_Jl8",
    "outputId": "d0dd33f0-0516-4117-b279-aff6d1565beb"
   },
   "outputs": [
    {
     "name": "stdout",
     "output_type": "stream",
     "text": [
      "M [['09:00AM - 09:50AM', '149 National Soybean Res Ctr'], ['10:00AM - 10:50AM', '4029 Campus Instructional Facility'], ['12:00PM - 12:50PM', '112 Gregory Hall'], ['13:00PM - 14:50PM', '325 David Kinley Hall']]\n",
      "T [['14:00PM - 15:20PM', '8 ACES Lib, Info & Alum Ctr']]\n",
      "W [['10:00AM - 10:50AM', '4029 Campus Instructional Facility'], ['12:00PM - 12:50PM', '112 Gregory Hall'], ['13:00PM - 14:50PM', '325 David Kinley Hall']]\n",
      "R [['14:00PM - 15:20PM', '8 ACES Lib, Info & Alum Ctr']]\n",
      "F [['10:00AM - 10:50AM', '4029 Campus Instructional Facility'], ['13:00PM - 14:50PM', '325 David Kinley Hall']]\n"
     ]
      "cell_type": "code",
      "metadata": {
        "id": "_g9EafkY8Hhl"
      },
      "source": [
        "def timeDiff(end_time,start_time):\n",
        "    timeDiff = end_time - start_time\n",
        "    return timeDiff\n"
      ],
      "execution_count": 28,
      "outputs": []
    },
    {
      "cell_type": "code",
      "metadata": {
        "colab": {
          "base_uri": "https://localhost:8080/"
        },
        "id": "JiHZpjjb_Jl8",
        "outputId": "791469a9-7863-4902-e88e-c98890d00ff3"
      },
      "source": [
        "from datetime import datetime\n",
        "from datetime import time\n",
        "from datetime import timedelta\n",
        "\n",
        "datetime_object = datetime.strptime\n",
        "\n",
        "for key, val in days.items():\n",
        "  for item in val:\n",
        "    if \"PM\" in item[0]:\n",
        "      new_time = \"\"\n",
        "      if(int(item[0][:2]) < 12):\n",
        "        new_start_time = str(int(item[0][:2]) + 12)\n",
        "        new_end_time = str(int(item[0][10:12]) + 12)\n",
        "        print(new_start_time, new_end_time)\n",
        "        new_time = new_start_time + item[0][2:10] + new_end_time + item[0][12:]\n",
        "        item[0] = new_time\n",
        "\n",
        "back_to_back = {\"M\" : [], \"T\" : [], \"W\": [], \"R\": [], \"F\" : []}\n",
        "for key, val in days.items():\n",
        "  val = sorted(val, key=lambda x: x[0])\n",
        "  print(key, val)\n",
        "  back = []\n",
        "  for item in val:\n",
        "    start_end = item[0].split(\" \")\n",
        "    start = datetime.strptime(start_end[0][:-2], \"%H:%M\")\n",
        "    end = datetime.strptime(start_end[2][:-2], \"%H:%M\")\n",
        "    back.append([start, end, item[1]])\n",
        "\n",
        "  # [endtime, end_location, start_time_of_next_class, next_locatiion]\n",
        "  print(back)\n",
        "  for n in range(0, len(back)-1):\n",
        "    back_schedule = []\n",
        "    threshhold = timedelta(minutes = 20)\n",
        "    if timeDiff(back[n+1][0], back[n][1]) < threshhold:\n",
        "      back_schedule.append()\n"
      ],
      "execution_count": 51,
      "outputs": [
        {
          "output_type": "stream",
          "name": "stdout",
          "text": [
            "M [['09:00AM - 09:50AM', '149 National Soybean Res Ctr'], ['10:00AM - 10:50AM', '4029 Campus Instructional Facility'], ['12:00PM - 12:50PM', '112 Gregory Hall'], ['13:00PM - 14:50PM', '325 David Kinley Hall']]\n",
            "[[datetime.datetime(1900, 1, 1, 9, 0), datetime.datetime(1900, 1, 1, 9, 50), '149 National Soybean Res Ctr'], [datetime.datetime(1900, 1, 1, 10, 0), datetime.datetime(1900, 1, 1, 10, 50), '4029 Campus Instructional Facility'], [datetime.datetime(1900, 1, 1, 12, 0), datetime.datetime(1900, 1, 1, 12, 50), '112 Gregory Hall'], [datetime.datetime(1900, 1, 1, 13, 0), datetime.datetime(1900, 1, 1, 14, 50), '325 David Kinley Hall']]\n",
            "hello\n",
            "hello\n",
            "T [['14:00PM - 15:20PM', '8 ACES Lib, Info & Alum Ctr']]\n",
            "[[datetime.datetime(1900, 1, 1, 14, 0), datetime.datetime(1900, 1, 1, 15, 20), '8 ACES Lib, Info & Alum Ctr']]\n",
            "W [['10:00AM - 10:50AM', '4029 Campus Instructional Facility'], ['12:00PM - 12:50PM', '112 Gregory Hall'], ['13:00PM - 14:50PM', '325 David Kinley Hall']]\n",
            "[[datetime.datetime(1900, 1, 1, 10, 0), datetime.datetime(1900, 1, 1, 10, 50), '4029 Campus Instructional Facility'], [datetime.datetime(1900, 1, 1, 12, 0), datetime.datetime(1900, 1, 1, 12, 50), '112 Gregory Hall'], [datetime.datetime(1900, 1, 1, 13, 0), datetime.datetime(1900, 1, 1, 14, 50), '325 David Kinley Hall']]\n",
            "hello\n",
            "R [['14:00PM - 15:20PM', '8 ACES Lib, Info & Alum Ctr']]\n",
            "[[datetime.datetime(1900, 1, 1, 14, 0), datetime.datetime(1900, 1, 1, 15, 20), '8 ACES Lib, Info & Alum Ctr']]\n",
            "F [['10:00AM - 10:50AM', '4029 Campus Instructional Facility'], ['13:00PM - 14:50PM', '325 David Kinley Hall']]\n",
            "[[datetime.datetime(1900, 1, 1, 10, 0), datetime.datetime(1900, 1, 1, 10, 50), '4029 Campus Instructional Facility'], [datetime.datetime(1900, 1, 1, 13, 0), datetime.datetime(1900, 1, 1, 14, 50), '325 David Kinley Hall']]\n"
          ]
        }
      ]
    }
   ],
   "source": [
    "for key, val in days.items():\n",
    "  for item in val:\n",
    "    if \"PM\" in item[0]:\n",
    "      new_time = \"\"\n",
    "      if(int(item[0][:2]) < 12):\n",
    "        new_start_time = str(int(item[0][:2]) + 12)\n",
    "        new_end_time = str(int(item[0][10:12]) + 12)\n",
    "        #print(new_start_time, new_end_time)\n",
    "        new_time = new_start_time + item[0][2:10] + new_end_time + item[0][12:]\n",
    "        item[0] = new_time\n",
    "\n",
    "for key, val in days.items():\n",
    "  val = sorted(val, key=lambda x: x[0])\n",
    "  print(key, val)\n"
    "outputId": "791469a9-7863-4902-e88e-c98890d00ff3"
   },
   "outputs": [
    {
     "name": "stdout",
     "output_type": "stream",
     "text": [
      "0:10:00\n",
      "0:10:00\n",
      "0:10:00\n",
      "0 [['149 National Soybean Res Ctr', '4029 Campus Instructional Facility'], ['112 Gregory Hall', '325 David Kinley Hall']]\n",
      "1 [['149 National Soybean Res Ctr', '4029 Campus Instructional Facility'], ['112 Gregory Hall', '325 David Kinley Hall']]\n",
      "2 [['112 Gregory Hall', '325 David Kinley Hall']]\n"
     ]
    }
   ],
   "source": [
    "from datetime import datetime\n",
    "from datetime import time\n",
    "from datetime import timedelta\n",
    "datetime_object = datetime.strptime\n",
    "\n",
    "for key, val in days.items():\n",
    "  for item in val:\n",
    "    datetime_object1 = datetime.strptime(item[0][:7], '%I:%M%p')\n",
    "    datetime_object2 = datetime.strptime(item[0][10:17], '%I:%M%p')\n",
    "    new_temp = str(datetime_object1)[11:] + \" \" + str(datetime_object2)[11:]\n",
    "    item[0] = new_temp\n",
    "  \n",
    "location_check = []\n",
    "back_to_back = {\"M\" : [], \"T\" : [], \"W\": [], \"R\": [], \"F\" : []}\n",
    "for key, val in days.items():\n",
    "  val = sorted(val, key=lambda x: x[0])\n",
    "#   print(key, val)\n",
    "    \n",
    "  back = []\n",
    "  for item in val:\n",
    "    start_end = item[0].split(\" \")\n",
    "    back.append([datetime.strptime(start_end[0], \"%H:%M:%S\"), datetime.strptime(start_end[1], '%H:%M:%S'), item[1]])\n",
    "\n",
    "  # [endtime, end_location, start_time_of_next_class, next_locatiion]\n",
    "#   print(back)\n",
    "  \n",
    "  temp = []\n",
    "  for n in range(0, len(back)-1):\n",
    "    back_schedule = []\n",
    "    threshhold = timedelta(minutes = 20)\n",
    "    if timeDiff(back[n+1][0], back[n][1]) < threshhold:\n",
    "      back_schedule.append(n)\n",
    "      print(timeDiff(back[n+1][0], back[n][1]))\n",
    "      temp.append([back[n][2], back[n+1][2]])\n",
    "#       print(temp)\n",
    "      location_check.append(temp)\n",
    "  \n",
    "for i in range (0, len(location_check)):  \n",
    "    print(i, location_check[i])"
   ]
  },
  {
   "cell_type": "code",
   "execution_count": null,
   "metadata": {},
   "outputs": [],
   "source": []
  }
 ],
 "metadata": {
  "colab": {
   "collapsed_sections": [],
   "name": "datetime.ipynb",
   "provenance": []
  },
  "kernelspec": {
   "display_name": "Python 3",
   "language": "python",
   "name": "python3"
  },
  "language_info": {
   "codemirror_mode": {
    "name": "ipython",
    "version": 3
   },
   "file_extension": ".py",
   "mimetype": "text/x-python",
   "name": "python",
   "nbconvert_exporter": "python",
   "pygments_lexer": "ipython3",
   "version": "3.8.8"
  }
 },
 "nbformat": 4,
 "nbformat_minor": 1
}
