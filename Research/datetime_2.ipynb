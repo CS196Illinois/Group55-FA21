{
 "cells": [
  {
   "cell_type": "code",
   "execution_count": 5,
   "metadata": {},
   "outputs": [],
   "source": [
    "import ast\n",
    "from datetime import datetime\n",
    "from datetime import time\n",
    "from datetime import timedelta"
   ]
  },
  {
   "cell_type": "code",
   "execution_count": 6,
   "metadata": {},
   "outputs": [],
   "source": [
    "# this function extracts metadata about each crn from database.txt\n",
    "def extract_course_data(crns):\n",
    "    d_final = {}\n",
    "    file = open('shreyav5/database.txt', 'r')\n",
    "    f = file.readlines()\n",
    "    course_dict = {}\n",
    "    for c in crns:\n",
    "        for line in f:\n",
    "            if (c in line):\n",
    "                course_dict = ast.literal_eval(\"{\" + line + \"}\")\n",
    "                for key, value in course_dict.items():\n",
    "                    d_final[key] = value\n",
    "    return d_final"
   ]
  },
  {
   "cell_type": "code",
   "execution_count": 7,
   "metadata": {
    "colab": {
     "base_uri": "https://localhost:8080/"
    },
    "id": "oA-2j-OM--1i",
    "outputId": "99edbe96-3cf6-4190-fa28-7ccbb17b9775"
   },
   "outputs": [],
   "source": [
    "# generate_daily_agenda takes the course data and organizes it by day in a dictionary\n",
    "def generate_daily_agenda(crns):\n",
    "    days = {\"M\" : [], \"T\" : [], \"W\": [], \"R\": [], \"F\" : []}\n",
    "    for item in crns.keys():\n",
    "        if(len(crns[item][2]) > 1):\n",
    "          for letter in crns[item][2]:\n",
    "            # Storing time and location in a list 'temp' and appending it to dictionary 'days'\n",
    "            temp = []\n",
    "            temp.append(crns[item][1])\n",
    "            temp.append(crns[item][0])\n",
    "            days[letter].append(temp)\n",
    "        else:\n",
    "            temp = []\n",
    "            temp.append(crns[item][1])\n",
    "            temp.append(crns[item][0])\n",
    "            days[crns[item][2]].append(temp)\n",
    "    return days"
   ]
  },
  {
   "cell_type": "code",
   "execution_count": 8,
   "metadata": {},
   "outputs": [],
   "source": [
    "# convert_times_and_sort_days takes the days dictionary, and converts times after 12 pm to double digits\n",
    "# it also sorts the classes by the times in ascending order\n",
    "def convert_times_and_sort_days(days):\n",
    "    sorted_days = {}\n",
    "    for key, val in days.items():\n",
    "      for item in val:\n",
    "        if (\"PM\" in item[0] and (not(\"AM\" in item[0]))):\n",
    "          new_time = \"\"\n",
    "          if(int(item[0][:2]) < 12):\n",
    "            new_start_time = str(int(item[0][:2]) + 12)\n",
    "            new_end_time = str(int(item[0][10:12]) + 12)\n",
    "            #print(new_start_time, new_end_time)\n",
    "            new_time = new_start_time + item[0][2:10] + new_end_time + item[0][12:]\n",
    "            item[0] = new_time\n",
    "        if (item[0].startswith('12') and item[0].rfind('01')!= -1):\n",
    "            new_end_time = str(int(item[0][10:12]) + 12)\n",
    "            new_time = new_end_time + item[0][12:]\n",
    "            item[0] = item[0][0:10] + new_time\n",
    "    for key, val in days.items():\n",
    "      val = sorted(val, key=lambda x: x[0])\n",
    "      sorted_days[key] = val\n",
    "    return sorted_days"
   ]
  },
  {
   "cell_type": "code",
   "execution_count": 9,
   "metadata": {},
   "outputs": [],
   "source": [
    "# returns differece between start and end times\n",
    "def timeDiff(end_time,start_time):\n",
    "    timeDiff = end_time - start_time\n",
    "    return timeDiff"
   ]
  },
  {
   "cell_type": "code",
   "execution_count": 10,
   "metadata": {},
   "outputs": [],
   "source": [
    "# converts all the times in sorted_days to date time objects and populates classes_datetime\n",
    "def convert_to_datetime(sorted_days):\n",
    "    classes_datetime = {\"M\" : [], \"T\" : [], \"W\": [], \"R\": [], \"F\" : []}\n",
    "    datetime_object = datetime.strptime\n",
    "    for key, val in sorted_days.items():\n",
    "      for item in val:\n",
    "        start_end = item[0].split(\" \") \n",
    "        start = datetime.strptime(start_end[0][:-2], \"%H:%M\")\n",
    "        end = datetime.strptime(start_end[2][:-2], \"%H:%M\")\n",
    "        classes_datetime[key].append([item[1], start, end]);\n",
    "    return classes_datetime"
   ]
  },
  {
   "cell_type": "code",
   "execution_count": 16,
   "metadata": {},
   "outputs": [],
   "source": [
    "# creates a dictionary called back_to_back with the following format:\n",
    "# {M: [[class 1, class 2, time between class 1 & 2],[class 2, class 3, time between class 2 & 3] ]}\n",
    "def organize_classes(classes_datetime):\n",
    "    back_to_back = {\"M\" : [], \"T\" : [], \"W\": [], \"R\": [], \"F\" : []}\n",
    "    for key, val in classes_datetime.items():\n",
    "        i = 0\n",
    "        while i < len(val) - 1:\n",
    "            class_pair = []\n",
    "            item = val[i]\n",
    "            following_item = val[i + 1]\n",
    "            class_pair.append(item[0])\n",
    "            class_pair.append(item[2])\n",
    "            class_pair.append(following_item[0])\n",
    "            class_pair.append(following_item[1])\n",
    "            class_pair.append((following_item[1] - item[2]))\n",
    "            back_to_back[key].append(class_pair)\n",
    "            i = i + 1\n",
    "    return back_to_back"
   ]
  },
  {
   "cell_type": "code",
   "execution_count": 8,
   "metadata": {},
   "outputs": [],
   "source": [
    "crnsInput = {'59821', '75111', '73308', '75272', '48924', '70667', '62829', '57971'}\n",
    "crns = extract_course_data(crnsInput)"
   ]
  },
  {
   "cell_type": "code",
   "execution_count": 9,
   "metadata": {},
   "outputs": [
    {
     "data": {
      "text/plain": [
       "{70667: ['1025 Business Instructional Fac', '12:30PM - 01:50PM', 'TR'],\n",
       " 57971: ['112 Gregory Hall', '10:00AM - 10:50AM', 'MWF'],\n",
       " 59821: ['166 Bevier Hall', '01:00PM - 01:50PM', 'F'],\n",
       " 75111: ['144 Armory', '02:00PM - 02:50PM', 'F'],\n",
       " 48924: ['213 Gregory Hall', '02:00PM - 03:20PM', 'TR'],\n",
       " 62829: ['166 Bevier Hall', '11:00AM - 12:20PM', 'MW'],\n",
       " 75272: ['311 Gregory Hall', '03:00PM - 03:50PM', 'W'],\n",
       " 73308: ['1062 Lincoln Hall', '04:00PM - 04:50PM', 'W']}"
      ]
     },
     "execution_count": 9,
     "metadata": {},
     "output_type": "execute_result"
    }
   ],
   "source": [
    "crns"
   ]
  },
  {
   "cell_type": "code",
   "execution_count": 10,
   "metadata": {},
   "outputs": [],
   "source": [
    "days = {\"M\" : [], \"T\" : [], \"W\": [], \"R\": [], \"F\" : []}\n",
    "generate_daily_agenda(days)"
   ]
  },
  {
   "cell_type": "code",
   "execution_count": 11,
   "metadata": {},
   "outputs": [
    {
     "data": {
      "text/plain": [
       "{'M': [['10:00AM - 10:50AM', '112 Gregory Hall'],\n",
       "  ['11:00AM - 12:20PM', '166 Bevier Hall']],\n",
       " 'T': [['12:30PM - 01:50PM', '1025 Business Instructional Fac'],\n",
       "  ['02:00PM - 03:20PM', '213 Gregory Hall']],\n",
       " 'W': [['10:00AM - 10:50AM', '112 Gregory Hall'],\n",
       "  ['11:00AM - 12:20PM', '166 Bevier Hall'],\n",
       "  ['03:00PM - 03:50PM', '311 Gregory Hall'],\n",
       "  ['04:00PM - 04:50PM', '1062 Lincoln Hall']],\n",
       " 'R': [['12:30PM - 01:50PM', '1025 Business Instructional Fac'],\n",
       "  ['02:00PM - 03:20PM', '213 Gregory Hall']],\n",
       " 'F': [['10:00AM - 10:50AM', '112 Gregory Hall'],\n",
       "  ['01:00PM - 01:50PM', '166 Bevier Hall'],\n",
       "  ['02:00PM - 02:50PM', '144 Armory']]}"
      ]
     },
     "execution_count": 11,
     "metadata": {},
     "output_type": "execute_result"
    }
   ],
   "source": [
    "days"
   ]
  },
  {
   "cell_type": "code",
   "execution_count": 12,
   "metadata": {},
   "outputs": [],
   "source": [
    "convert_times_and_sort_days(days, sorted_days)"
   ]
  },
  {
   "cell_type": "code",
   "execution_count": 13,
   "metadata": {},
   "outputs": [
    {
     "data": {
      "text/plain": [
       "{'M': [['10:00AM - 10:50AM', '112 Gregory Hall'],\n",
       "  ['11:00AM - 12:20PM', '166 Bevier Hall']],\n",
       " 'T': [['12:30PM - 13:50PM', '1025 Business Instructional Fac'],\n",
       "  ['14:00PM - 15:20PM', '213 Gregory Hall']],\n",
       " 'W': [['10:00AM - 10:50AM', '112 Gregory Hall'],\n",
       "  ['11:00AM - 12:20PM', '166 Bevier Hall'],\n",
       "  ['15:00PM - 15:50PM', '311 Gregory Hall'],\n",
       "  ['16:00PM - 16:50PM', '1062 Lincoln Hall']],\n",
       " 'R': [['12:30PM - 13:50PM', '1025 Business Instructional Fac'],\n",
       "  ['14:00PM - 15:20PM', '213 Gregory Hall']],\n",
       " 'F': [['10:00AM - 10:50AM', '112 Gregory Hall'],\n",
       "  ['13:00PM - 13:50PM', '166 Bevier Hall'],\n",
       "  ['14:00PM - 14:50PM', '144 Armory']]}"
      ]
     },
     "execution_count": 13,
     "metadata": {},
     "output_type": "execute_result"
    }
   ],
   "source": [
    "sorted_days"
   ]
  },
  {
   "cell_type": "code",
   "execution_count": 14,
   "metadata": {},
   "outputs": [],
   "source": [
    "classes_datetime = {\"M\" : [], \"T\" : [], \"W\": [], \"R\": [], \"F\" : []}\n",
    "convert_to_datetime(classes_datetime)"
   ]
  },
  {
   "cell_type": "code",
   "execution_count": 15,
   "metadata": {},
   "outputs": [
    {
     "data": {
      "text/plain": [
       "{'M': [['112 Gregory Hall',\n",
       "   datetime.datetime(1900, 1, 1, 10, 0),\n",
       "   datetime.datetime(1900, 1, 1, 10, 50)],\n",
       "  ['166 Bevier Hall',\n",
       "   datetime.datetime(1900, 1, 1, 11, 0),\n",
       "   datetime.datetime(1900, 1, 1, 12, 20)]],\n",
       " 'T': [['1025 Business Instructional Fac',\n",
       "   datetime.datetime(1900, 1, 1, 12, 30),\n",
       "   datetime.datetime(1900, 1, 1, 13, 50)],\n",
       "  ['213 Gregory Hall',\n",
       "   datetime.datetime(1900, 1, 1, 14, 0),\n",
       "   datetime.datetime(1900, 1, 1, 15, 20)]],\n",
       " 'W': [['112 Gregory Hall',\n",
       "   datetime.datetime(1900, 1, 1, 10, 0),\n",
       "   datetime.datetime(1900, 1, 1, 10, 50)],\n",
       "  ['166 Bevier Hall',\n",
       "   datetime.datetime(1900, 1, 1, 11, 0),\n",
       "   datetime.datetime(1900, 1, 1, 12, 20)],\n",
       "  ['311 Gregory Hall',\n",
       "   datetime.datetime(1900, 1, 1, 15, 0),\n",
       "   datetime.datetime(1900, 1, 1, 15, 50)],\n",
       "  ['1062 Lincoln Hall',\n",
       "   datetime.datetime(1900, 1, 1, 16, 0),\n",
       "   datetime.datetime(1900, 1, 1, 16, 50)]],\n",
       " 'R': [['1025 Business Instructional Fac',\n",
       "   datetime.datetime(1900, 1, 1, 12, 30),\n",
       "   datetime.datetime(1900, 1, 1, 13, 50)],\n",
       "  ['213 Gregory Hall',\n",
       "   datetime.datetime(1900, 1, 1, 14, 0),\n",
       "   datetime.datetime(1900, 1, 1, 15, 20)]],\n",
       " 'F': [['112 Gregory Hall',\n",
       "   datetime.datetime(1900, 1, 1, 10, 0),\n",
       "   datetime.datetime(1900, 1, 1, 10, 50)],\n",
       "  ['166 Bevier Hall',\n",
       "   datetime.datetime(1900, 1, 1, 13, 0),\n",
       "   datetime.datetime(1900, 1, 1, 13, 50)],\n",
       "  ['144 Armory',\n",
       "   datetime.datetime(1900, 1, 1, 14, 0),\n",
       "   datetime.datetime(1900, 1, 1, 14, 50)]]}"
      ]
     },
     "execution_count": 15,
     "metadata": {},
     "output_type": "execute_result"
    }
   ],
   "source": [
    "classes_datetime"
   ]
  },
  {
   "cell_type": "code",
   "execution_count": 16,
   "metadata": {},
   "outputs": [],
   "source": [
    "back_to_back = {\"M\" : [], \"T\" : [], \"W\": [], \"R\": [], \"F\" : []}\n",
    "organize_classes(back_to_back, classes_datetime)"
   ]
  },
  {
   "cell_type": "code",
   "execution_count": 17,
   "metadata": {},
   "outputs": [
    {
     "data": {
      "text/plain": [
       "{'M': [['112 Gregory Hall',\n",
       "   '166 Bevier Hall',\n",
       "   datetime.timedelta(seconds=600)]],\n",
       " 'T': [['1025 Business Instructional Fac',\n",
       "   '213 Gregory Hall',\n",
       "   datetime.timedelta(seconds=600)]],\n",
       " 'W': [['112 Gregory Hall',\n",
       "   '166 Bevier Hall',\n",
       "   datetime.timedelta(seconds=600)],\n",
       "  ['166 Bevier Hall', '311 Gregory Hall', datetime.timedelta(seconds=9600)],\n",
       "  ['311 Gregory Hall', '1062 Lincoln Hall', datetime.timedelta(seconds=600)]],\n",
       " 'R': [['1025 Business Instructional Fac',\n",
       "   '213 Gregory Hall',\n",
       "   datetime.timedelta(seconds=600)]],\n",
       " 'F': [['112 Gregory Hall',\n",
       "   '166 Bevier Hall',\n",
       "   datetime.timedelta(seconds=7800)],\n",
       "  ['166 Bevier Hall', '144 Armory', datetime.timedelta(seconds=600)]]}"
      ]
     },
     "execution_count": 17,
     "metadata": {},
     "output_type": "execute_result"
    }
   ],
   "source": [
    "back_to_back"
   ]
  },
  {
   "cell_type": "code",
   "execution_count": 17,
   "metadata": {},
   "outputs": [],
   "source": [
    "crnsInput = {'59821', '75111', '73308'} # '75272', '48924', '70667', '62829', '57971'}\n",
    "def final(crnsInput):\n",
    "    crns = extract_course_data(crnsInput)\n",
    "    days = generate_daily_agenda(crns)\n",
    "    sorted_days = convert_times_and_sort_days(days)\n",
    "    classes_datetime = convert_to_datetime(sorted_days)\n",
    "    back_to_back = organize_classes(classes_datetime)\n",
    "    return back_to_back\n",
    "final = final(crnsInput)"
   ]
  },
  {
   "cell_type": "code",
   "execution_count": 18,
   "metadata": {},
   "outputs": [
    {
     "data": {
      "text/plain": [
       "{'M': [],\n",
       " 'T': [],\n",
       " 'W': [],\n",
       " 'R': [],\n",
       " 'F': [['166 Bevier Hall',\n",
       "   datetime.datetime(1900, 1, 1, 13, 50),\n",
       "   '144 Armory',\n",
       "   datetime.datetime(1900, 1, 1, 14, 0),\n",
       "   datetime.timedelta(seconds=600)]]}"
      ]
     },
     "execution_count": 18,
     "metadata": {},
     "output_type": "execute_result"
    }
   ],
   "source": [
    "final"
   ]
  },
  {
   "cell_type": "code",
   "execution_count": 10,
   "metadata": {},
   "outputs": [],
   "source": [
    "from datetime import datetime\n",
    "\n",
    "def convertDateTime(datetime_object):\n",
    "    return datetime_object.strftime(\"%H:%M\")\n",
    "    # start_end = datetime_object.split(\" \")\n",
    "    # return datetime.strptime(start_end[0], \"%H:%M:%S\"), datetime.strptime(start_end[1], '%H:%M:%S')\n",
    "    \n",
    "   "
   ]
  },
  {
   "cell_type": "code",
   "execution_count": 12,
   "metadata": {},
   "outputs": [
    {
     "name": "stdout",
     "output_type": "stream",
     "text": [
      "15:50\n"
     ]
    }
   ],
   "source": [
    "print(convertDateTime(datetime(1900, 1, 1, 15, 50)))"
   ]
  },
  {
   "cell_type": "code",
   "execution_count": 13,
   "metadata": {},
   "outputs": [
    {
     "data": {
      "text/plain": [
       "'datetime'"
      ]
     },
     "execution_count": 13,
     "metadata": {},
     "output_type": "execute_result"
    }
   ],
   "source": [
    "a = \"datetime.datetime\"\n",
    "a.split(\".\")[1]"
   ]
  }
 ],
 "metadata": {
  "colab": {
   "collapsed_sections": [],
   "name": "datetime.ipynb",
   "provenance": []
  },
  "interpreter": {
   "hash": "cd78fef2128015050713e82ca51c6520b11aee7c9ee8df750520bbbc7384cbaa"
  },
  "kernelspec": {
   "display_name": "Python 3.8.8 64-bit ('base': conda)",
   "name": "python3"
  },
  "language_info": {
   "codemirror_mode": {
    "name": "ipython",
    "version": 3
   },
   "file_extension": ".py",
   "mimetype": "text/x-python",
   "name": "python",
   "nbconvert_exporter": "python",
   "pygments_lexer": "ipython3",
   "version": "3.8.8"
  }
 },
 "nbformat": 4,
 "nbformat_minor": 1
}
