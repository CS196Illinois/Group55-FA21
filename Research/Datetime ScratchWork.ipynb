{
 "cells": [
  {
   "cell_type": "code",
   "execution_count": 1,
   "id": "f3861904",
   "metadata": {},
   "outputs": [],
   "source": [
    "input = [\"68954\", \"70107\", \"38783\", \"29785\", \"62727\"]"
   ]
  },
  {
   "cell_type": "code",
   "execution_count": 2,
   "id": "7b8800cf",
   "metadata": {},
   "outputs": [],
   "source": [
    "crns = {\"58056\" : ['302 Transportation Building', '09:00AM - 10:50AM', 'M'],\n",
    "        \"70107\" : ['112 Gregory Hall', '12:00PM - 12:50PM', 'MW'],\n",
    "        \"38783\" : ['8 ACES Lib, Info & Alum Ctr', '02:00PM - 03:20PM', 'TR'],\n",
    "        \"29825\" : ['122 Bevier Hall', '10:00AM - 11:20AM', 'MW'],\n",
    "        \"29785\" : ['4029 Campus Instructional Facility', '10:00AM - 10:50AM', 'MWF'],\n",
    "        \"68954\" : ['149 National Soybean Res Ctr', '09:00AM - 09:50AM', 'M'],\n",
    "        \"62727\" : ['325 David Kinley Hall', '01:00PM - 02:50PM', 'MWF']\n",
    "}"
   ]
  },
  {
   "cell_type": "code",
   "execution_count": 3,
   "id": "d8a7cb93",
   "metadata": {},
   "outputs": [
    {
     "data": {
      "text/plain": [
       "{'M': [['09:00AM - 09:50AM', '149 National Soybean Res Ctr'],\n",
       "  ['12:00PM - 12:50PM', '112 Gregory Hall'],\n",
       "  ['10:00AM - 10:50AM', '4029 Campus Instructional Facility'],\n",
       "  ['01:00PM - 02:50PM', '325 David Kinley Hall']],\n",
       " 'T': [['02:00PM - 03:20PM', '8 ACES Lib, Info & Alum Ctr']],\n",
       " 'W': [['12:00PM - 12:50PM', '112 Gregory Hall'],\n",
       "  ['10:00AM - 10:50AM', '4029 Campus Instructional Facility'],\n",
       "  ['01:00PM - 02:50PM', '325 David Kinley Hall']],\n",
       " 'R': [['02:00PM - 03:20PM', '8 ACES Lib, Info & Alum Ctr']],\n",
       " 'F': [['10:00AM - 10:50AM', '4029 Campus Instructional Facility'],\n",
       "  ['01:00PM - 02:50PM', '325 David Kinley Hall']]}"
      ]
     },
     "execution_count": 3,
     "metadata": {},
     "output_type": "execute_result"
    }
   ],
   "source": [
    "days = {\"M\" : [], \"T\" : [], \"W\": [], \"R\": [], \"F\" : []}\n",
    "for item in input:\n",
    "    if(len(crns[item][2]) > 1):\n",
    "      for letter in crns[item][2]:\n",
    "        #M\n",
    "        temp = []\n",
    "        temp.append(crns[item][1])\n",
    "        temp.append(crns[item][0])\n",
    "        days[letter].append(temp)\n",
    "    else:\n",
    "        temp = []\n",
    "        temp.append(crns[item][1])\n",
    "        temp.append(crns[item][0])\n",
    "        days[crns[item][2]].append(temp)\n",
    "\n",
    "days"
   ]
  },
  {
   "cell_type": "code",
   "execution_count": 4,
   "id": "1074cad9",
   "metadata": {},
   "outputs": [],
   "source": [
    "def timeDiff(end_time,start_time):\n",
    "    timeDiff = end_time - start_time\n",
    "    return timeDiff"
   ]
  },
  {
   "cell_type": "code",
   "execution_count": 5,
   "id": "187f5532",
   "metadata": {},
   "outputs": [
    {
     "name": "stdout",
     "output_type": "stream",
     "text": [
      "13 14\n",
      "14 15\n",
      "13 14\n",
      "14 15\n",
      "13 14\n",
      "M [['09:00AM - 09:50AM', '149 National Soybean Res Ctr'], ['10:00AM - 10:50AM', '4029 Campus Instructional Facility'], ['12:00PM - 12:50PM', '112 Gregory Hall'], ['13:00PM - 14:50PM', '325 David Kinley Hall']]\n",
      "[[datetime.datetime(1900, 1, 1, 9, 0), datetime.datetime(1900, 1, 1, 9, 50), '149 National Soybean Res Ctr'], [datetime.datetime(1900, 1, 1, 10, 0), datetime.datetime(1900, 1, 1, 10, 50), '4029 Campus Instructional Facility'], [datetime.datetime(1900, 1, 1, 12, 0), datetime.datetime(1900, 1, 1, 12, 50), '112 Gregory Hall'], [datetime.datetime(1900, 1, 1, 13, 0), datetime.datetime(1900, 1, 1, 14, 50), '325 David Kinley Hall']]\n",
      "T [['14:00PM - 15:20PM', '8 ACES Lib, Info & Alum Ctr']]\n",
      "[[datetime.datetime(1900, 1, 1, 14, 0), datetime.datetime(1900, 1, 1, 15, 20), '8 ACES Lib, Info & Alum Ctr']]\n",
      "W [['10:00AM - 10:50AM', '4029 Campus Instructional Facility'], ['12:00PM - 12:50PM', '112 Gregory Hall'], ['13:00PM - 14:50PM', '325 David Kinley Hall']]\n",
      "[[datetime.datetime(1900, 1, 1, 10, 0), datetime.datetime(1900, 1, 1, 10, 50), '4029 Campus Instructional Facility'], [datetime.datetime(1900, 1, 1, 12, 0), datetime.datetime(1900, 1, 1, 12, 50), '112 Gregory Hall'], [datetime.datetime(1900, 1, 1, 13, 0), datetime.datetime(1900, 1, 1, 14, 50), '325 David Kinley Hall']]\n",
      "R [['14:00PM - 15:20PM', '8 ACES Lib, Info & Alum Ctr']]\n",
      "[[datetime.datetime(1900, 1, 1, 14, 0), datetime.datetime(1900, 1, 1, 15, 20), '8 ACES Lib, Info & Alum Ctr']]\n",
      "F [['10:00AM - 10:50AM', '4029 Campus Instructional Facility'], ['13:00PM - 14:50PM', '325 David Kinley Hall']]\n",
      "[[datetime.datetime(1900, 1, 1, 10, 0), datetime.datetime(1900, 1, 1, 10, 50), '4029 Campus Instructional Facility'], [datetime.datetime(1900, 1, 1, 13, 0), datetime.datetime(1900, 1, 1, 14, 50), '325 David Kinley Hall']]\n"
     ]
    }
   ],
   "source": [
    "from datetime import datetime\n",
    "from datetime import time\n",
    "from datetime import timedelta\n",
    "\n",
    "datetime_object = datetime.strptime\n",
    "\n",
    "for key, val in days.items():\n",
    "  for item in val:\n",
    "    if \"PM\" in item[0]:\n",
    "      new_time = \"\"\n",
    "      if(int(item[0][:2]) < 12):\n",
    "        new_start_time = str(int(item[0][:2]) + 12)\n",
    "        new_end_time = str(int(item[0][10:12]) + 12)\n",
    "        print(new_start_time, new_end_time)\n",
    "        new_time = new_start_time + item[0][2:10] + new_end_time + item[0][12:]\n",
    "        item[0] = new_time\n",
    "\n",
    "back_to_back = {\"M\" : [], \"T\" : [], \"W\": [], \"R\": [], \"F\" : []}\n",
    "for key, val in days.items():\n",
    "  val = sorted(val, key=lambda x: x[0])\n",
    "  print(key, val)\n",
    "  back = []\n",
    "  for item in val:\n",
    "    start_end = item[0].split(\" \")\n",
    "    start = datetime.strptime(start_end[0][:-2], \"%H:%M\")\n",
    "    end = datetime.strptime(start_end[2][:-2], \"%H:%M\")\n",
    "    back.append([start, end, item[1]])\n",
    "\n",
    "  # [endtime, end_location, start_time_of_next_class, next_locatiion]\n",
    "  print(back)\n",
    "  for n in range(0, len(back)-1):\n",
    "    back_schedule = []\n",
    "    threshhold = timedelta(minutes = 20)\n",
    "    if timeDiff(back[n+1][0], back[n][1]) < threshhold:\n",
    "      back_schedule.append(back)\n",
    "    "
   ]
  },
  {
   "cell_type": "code",
   "execution_count": 6,
   "id": "17925e1d",
   "metadata": {},
   "outputs": [
    {
     "data": {
      "text/plain": [
       "[[datetime.datetime(1900, 1, 1, 10, 0),\n",
       "  datetime.datetime(1900, 1, 1, 10, 50),\n",
       "  '4029 Campus Instructional Facility'],\n",
       " [datetime.datetime(1900, 1, 1, 13, 0),\n",
       "  datetime.datetime(1900, 1, 1, 14, 50),\n",
       "  '325 David Kinley Hall']]"
      ]
     },
     "execution_count": 6,
     "metadata": {},
     "output_type": "execute_result"
    }
   ],
   "source": [
    "back"
   ]
  },
  {
   "cell_type": "code",
   "execution_count": 7,
   "id": "d574a3d4",
   "metadata": {},
   "outputs": [
    {
     "data": {
      "text/plain": [
       "{'M': [], 'T': [], 'W': [], 'R': [], 'F': []}"
      ]
     },
     "execution_count": 7,
     "metadata": {},
     "output_type": "execute_result"
    }
   ],
   "source": [
    "back_to_back"
   ]
  },
  {
   "cell_type": "code",
   "execution_count": 8,
   "id": "91de9594",
   "metadata": {},
   "outputs": [
    {
     "data": {
      "text/plain": [
       "{'M': [['09:00AM - 09:50AM', '149 National Soybean Res Ctr'],\n",
       "  ['12:00PM - 12:50PM', '112 Gregory Hall'],\n",
       "  ['10:00AM - 10:50AM', '4029 Campus Instructional Facility'],\n",
       "  ['13:00PM - 14:50PM', '325 David Kinley Hall']],\n",
       " 'T': [['14:00PM - 15:20PM', '8 ACES Lib, Info & Alum Ctr']],\n",
       " 'W': [['12:00PM - 12:50PM', '112 Gregory Hall'],\n",
       "  ['10:00AM - 10:50AM', '4029 Campus Instructional Facility'],\n",
       "  ['13:00PM - 14:50PM', '325 David Kinley Hall']],\n",
       " 'R': [['14:00PM - 15:20PM', '8 ACES Lib, Info & Alum Ctr']],\n",
       " 'F': [['10:00AM - 10:50AM', '4029 Campus Instructional Facility'],\n",
       "  ['13:00PM - 14:50PM', '325 David Kinley Hall']]}"
      ]
     },
     "execution_count": 8,
     "metadata": {},
     "output_type": "execute_result"
    }
   ],
   "source": [
    "days"
   ]
  },
  {
   "cell_type": "code",
   "execution_count": 9,
   "id": "7fb17bba",
   "metadata": {},
   "outputs": [
    {
     "data": {
      "text/plain": [
       "datetime.timedelta(seconds=50)"
      ]
     },
     "execution_count": 9,
     "metadata": {},
     "output_type": "execute_result"
    }
   ],
   "source": [
    "(back[0][1] - back[0][0])/60"
   ]
  },
  {
   "cell_type": "code",
   "execution_count": 10,
   "id": "a725223c",
   "metadata": {},
   "outputs": [
    {
     "ename": "IndexError",
     "evalue": "list index out of range",
     "output_type": "error",
     "traceback": [
      "\u001b[0;31m---------------------------------------------------------------------------\u001b[0m",
      "\u001b[0;31mIndexError\u001b[0m                                Traceback (most recent call last)",
      "\u001b[0;32m<ipython-input-10-305322081b02>\u001b[0m in \u001b[0;36m<module>\u001b[0;34m\u001b[0m\n\u001b[1;32m      5\u001b[0m \u001b[0mresponse\u001b[0m \u001b[0;34m=\u001b[0m \u001b[0mrequests\u001b[0m\u001b[0;34m.\u001b[0m\u001b[0mget\u001b[0m\u001b[0;34m(\u001b[0m\u001b[0mgeo_url\u001b[0m\u001b[0;34m,\u001b[0m \u001b[0mparams\u001b[0m \u001b[0;34m=\u001b[0m \u001b[0mmy_address\u001b[0m\u001b[0;34m)\u001b[0m\u001b[0;34m\u001b[0m\u001b[0;34m\u001b[0m\u001b[0m\n\u001b[1;32m      6\u001b[0m \u001b[0mresults\u001b[0m \u001b[0;34m=\u001b[0m \u001b[0mresponse\u001b[0m\u001b[0;34m.\u001b[0m\u001b[0mjson\u001b[0m\u001b[0;34m(\u001b[0m\u001b[0;34m)\u001b[0m\u001b[0;34m[\u001b[0m\u001b[0;34m'results'\u001b[0m\u001b[0;34m]\u001b[0m\u001b[0;34m\u001b[0m\u001b[0;34m\u001b[0m\u001b[0m\n\u001b[0;32m----> 7\u001b[0;31m \u001b[0mmy_geo\u001b[0m \u001b[0;34m=\u001b[0m \u001b[0mresults\u001b[0m\u001b[0;34m[\u001b[0m\u001b[0;36m0\u001b[0m\u001b[0;34m]\u001b[0m\u001b[0;34m[\u001b[0m\u001b[0;34m'geometry'\u001b[0m\u001b[0;34m]\u001b[0m\u001b[0;34m[\u001b[0m\u001b[0;34m'location'\u001b[0m\u001b[0;34m]\u001b[0m\u001b[0;34m\u001b[0m\u001b[0;34m\u001b[0m\u001b[0m\n\u001b[0m\u001b[1;32m      8\u001b[0m \u001b[0mprint\u001b[0m\u001b[0;34m(\u001b[0m\u001b[0;34m\"Longitude:\"\u001b[0m\u001b[0;34m,\u001b[0m\u001b[0mmy_geo\u001b[0m\u001b[0;34m[\u001b[0m\u001b[0;34m'lng'\u001b[0m\u001b[0;34m]\u001b[0m\u001b[0;34m,\u001b[0m\u001b[0;34m\"\\n\"\u001b[0m\u001b[0;34m,\u001b[0m\u001b[0;34m\"Latitude:\"\u001b[0m\u001b[0;34m,\u001b[0m\u001b[0mmy_geo\u001b[0m\u001b[0;34m[\u001b[0m\u001b[0;34m'lat'\u001b[0m\u001b[0;34m]\u001b[0m\u001b[0;34m)\u001b[0m\u001b[0;34m\u001b[0m\u001b[0;34m\u001b[0m\u001b[0m\n",
      "\u001b[0;31mIndexError\u001b[0m: list index out of range"
     ]
    }
   ],
   "source": [
    "import requests\n",
    "geo_url = 'http://maps.googleapis.com/maps/api/geocode/json'\n",
    "my_address = {'address': '21 Ramkrishana Road, Burdwan, East Burdwan, West Bengal, India', \n",
    "             'language': 'en'}\n",
    "response = requests.get(geo_url, params = my_address)\n",
    "results = response.json()['results']\n",
    "my_geo = results[0]['geometry']['location']\n",
    "print(\"Longitude:\",my_geo['lng'],\"\\n\",\"Latitude:\",my_geo['lat'])"
   ]
  },
  {
   "cell_type": "code",
   "execution_count": null,
   "id": "7549bc28",
   "metadata": {},
   "outputs": [],
   "source": []
  }
 ],
 "metadata": {
  "kernelspec": {
   "display_name": "Python 3",
   "language": "python",
   "name": "python3"
  },
  "language_info": {
   "codemirror_mode": {
    "name": "ipython",
    "version": 3
   },
   "file_extension": ".py",
   "mimetype": "text/x-python",
   "name": "python",
   "nbconvert_exporter": "python",
   "pygments_lexer": "ipython3",
   "version": "3.8.8"
  }
 },
 "nbformat": 4,
 "nbformat_minor": 5
}
